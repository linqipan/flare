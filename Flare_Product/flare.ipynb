{
 "cells": [
  {
   "cell_type": "code",
   "execution_count": 1,
   "metadata": {
    "collapsed": true
   },
   "outputs": [],
   "source": [
    "import json\n",
    "import numpy as np\n",
    "import math\n"
   ]
  },
  {
   "cell_type": "code",
   "execution_count": 2,
   "metadata": {
    "collapsed": true
   },
   "outputs": [],
   "source": [
    "with open('flaregeometry.oofem','r') as json_file:\n",
    "    flare = json.load(json_file)\n",
    "with open('model.dsgn') as wind_file:\n",
    "    wind_data = json.load(wind_file)\n",
    "    \n",
    "mesh_level = {'refine_level':2,'second_order':2, 'min_ele': 0.5}"
   ]
  },
  {
   "cell_type": "code",
   "execution_count": 3,
   "metadata": {
    "collapsed": false
   },
   "outputs": [],
   "source": [
    "class flaregeo(object):\n",
    "    \n",
    "    \n",
    "    def __init__(self):\n",
    "        self.section_num = {}\n",
    "        for i in flare['BeamElements']:\n",
    "            if i['Section'] not in self.section_num:\n",
    "                self.section_num[i['Section']] = [i['Label']]\n",
    "            else:\n",
    "                self.section_num[i['Section']].append(i['Label'])\n",
    "        self.radius = [wind_data['elementArray'][0]['Af']/2]\n",
    "        for i in wind_data['elementArray']:\n",
    "            self.radius.append(i['Af']/2)\n",
    "        self.thicktype = {}\n",
    "        for i in flare['BeamSections']:\n",
    "            if i['Label'] not in self.thicktype:\n",
    "                self.thicktype[i['Label']] = i['Area']/3.14\n",
    "        \n",
    "        self.section_coord = []\n",
    "        for i in flare['Nodes']:\n",
    "            self.section_coord.append(i['Coords'][2])\n",
    "            \n",
    "### flare geometry ##        \n",
    "    def flare_geo(self):\n",
    "        gmshfile = open('flare.geo','w')\n",
    "        circlenum=1\n",
    "        for i in range(1,len(self.section_coord)+1):\n",
    "            \n",
    "            gmshfile.write('Point(%d) = {0,0,%d,1};\\n'%(5*i-4,self.section_coord[i-1])+\\\n",
    "                          'Point(%d) = {%d,0,%d,1};\\n'%(5*i-3,self.radius[i-1],self.section_coord[i-1])+\\\n",
    "                          'Point(%d) = {0,%d,%d,1};\\n'%(5*i-2,self.radius[i-1],self.section_coord[i-1])+\\\n",
    "                          'Point(%d) = {-%d,0,%d,1};\\n'%(5*i-1,self.radius[i-1],self.section_coord[i-1])+\\\n",
    "                          'Point(%d) = {0,-%d,%d,1};\\n'%(5*i,self.radius[i-1],self.section_coord[i-1]))\n",
    "            gmshfile.write('Circle(%d) = {%d, %d, %d};\\n'%(circlenum,5*i-3,5*i-4,5*i-2)+\\\n",
    "                          'Circle(%d) = {%d, %d, %d};\\n'%(circlenum+1,5*i-2,5*i-4,5*i-1)+\\\n",
    "                          'Circle(%d) = {%d, %d, %d};\\n'%(circlenum+2,5*i-1,5*i-4,5*i)+\\\n",
    "                          'Circle(%d) = {%d, %d, %d};\\n'%(circlenum+3,5*i,5*i-4,5*i-3))\n",
    "            circlenum +=4\n",
    "        for i in range(1,len(self.section_coord)):\n",
    "            linenum = 4*len(self.section_coord)\n",
    "            gmshfile.write('Line(%d) = {%d, %d};\\n'%(linenum+4*i-3,5*i-3,5*i+2)+\\\n",
    "                          'Line(%d) = {%d, %d};\\n'%(linenum+4*i-2,5*i-2,5*i+3)+\\\n",
    "                          'Line(%d) = {%d, %d};\\n'%(linenum+4*i-1,5*i-1,5*i+4)+\\\n",
    "                          'Line(%d) = {%d, %d};\\n'%(linenum+4*i,5*i,5*i+5))\n",
    "            \n",
    "        for i in range(1,len(self.section_coord)):\n",
    "            linenum = 4*len(self.section_coord)\n",
    "            gmshfile.write('Line Loop(%d) = {%d, %d, %d, %d};\\n'%(4*i-3,4*i-3,linenum+4*i-2,-(4*i+1),-(linenum+4*i-3))+\\\n",
    "                           'Surface(%d) = {%d};\\n'%(4*i-3,4*i-3)+\\\n",
    "                           'Line Loop(%d) = {%d, %d, %d, %d};\\n'%(4*i-2,4*i-2,linenum+4*i-1,-(4*i+2),-(linenum+4*i-2))+\\\n",
    "                           'Surface(%d) = {%d};\\n'%(4*i-2,4*i-2)+\\\n",
    "                           'Line Loop(%d) = {%d, %d, %d, %d};\\n'%(4*i-1,4*i-1,linenum+4*i,-(4*i+3),-(linenum+4*i-1))+\\\n",
    "                           'Surface(%d) = {%d};\\n'%(4*i-1,4*i-1)+\\\n",
    "                           'Line Loop(%d) = {%d, %d, %d, %d};\\n'%(4*i,4*i,linenum+4*i-3,-(4*i+4),-(linenum+4*i))+\\\n",
    "                           'Surface(%d) = {%d};\\n'%(4*i,4*i))\n",
    "            \n",
    "        ### Physical groups ####    \n",
    "        for i in self.section_num:\n",
    "            surface_num =[]\n",
    "            for j in self.section_num[i]:\n",
    "                surface_num.extend((4*j-3,4*j-2,4*j-1,4*j))\n",
    "            surface_str = \", \".join(map(str,surface_num))\n",
    "            gmshfile.write('Physical Surface(\"section%s\") = {%s};\\n'%(str(i),surface_str))\n",
    "            \n",
    "        ### wind surface ###\n",
    "        \n",
    "        for i in range(1,len(flare['BeamElements'])+1):\n",
    "            gmshfile.write('Physical Surface(\"windsurf%s\") = {%s};\\n'%(str(i),str(i)))\n",
    "        gmshfile.close()\n",
    "        return 0\n",
    "    def mesh_refine(self):\n",
    "        gmshfile = open('flare.geo','a')\n",
    "        \"\"\"\n",
    "        Mesh option:\n",
    "        1=MeshAdapt, 2=Automatic, 5=Delaunay, 6=Frontal, 7=BAMG, 8=DelQuad\n",
    "\n",
    "        \"\"\"\n",
    "        gmshfile.write('Mesh.SurfaceFaces = 1;\\n'+\\\n",
    "                'Mesh.VolumeEdges = 0;\\n'+\\\n",
    "                'Mesh.ElementOrder = %d;\\n'%mesh_level['second_order'])\n",
    "            \n",
    "        if(mesh_level['refine_level'] == 1):\n",
    "            gmshfile.write('Mesh.OptimizeNetgen = 1;\\n'+\\\n",
    "            'Mesh.Algorithm = 2;\\n'+\\\n",
    "            'Mesh.Smoothing = 30;\\n'+\\\n",
    "            'Mesh.CharacteristicLengthFromCurvature = 0;\\n'+\\\n",
    "            'Mesh.CharacteristicLengthFromPoints = 1;\\n'+\\\n",
    "            'Mesh.CharacteristicLengthFactor =2;\\n'+\\\n",
    "            'Mesh.CharacteristicLengthMax = %.3f;\\n'%mesh_level['min_ele'])\n",
    "        elif (mesh_level['refine_level'] ==2):\n",
    "             gmshfile.write('Mesh.OptimizeNetgen = 1;\\n'+\\\n",
    "            'Mesh.Algorithm = 2;\\n'+\\\n",
    "            'Mesh.Smoothing = 50;\\n'+\\\n",
    "            'Mesh.CharacteristicLengthFromCurvature = 0;\\n'+\\\n",
    "            'Mesh.CharacteristicLengthFromPoints = 1;\\n'+\\\n",
    "            'Mesh.CharacteristicLengthFactor =1;\\n'+\\\n",
    "            'Mesh.CharacteristicLengthMax = %.3f;\\n'%mesh_level['min_ele'])\n",
    "        else:\n",
    "            assert(mesh_level['refine_level'] == 0)\n",
    "            gmshfile.write('Mesh.OptimizeNetgen = 1;\\n'+\\\n",
    "            'Mesh.Algorithm = 2;\\n'+\\\n",
    "            'Mesh.Smoothing = 50;\\n'+\\\n",
    "            'Mesh.CharacteristicLengthFromCurvature = 1;\\n'+\\\n",
    "            'Mesh.CharacteristicLengthFromPoints = 0;\\n'+\\\n",
    "            'Mesh.CharacteristicLengthFactor =2;\\n'+\\\n",
    "            'Mesh.CharacteristicLengthMax = %.3f;\\n'%mesh_level['min_ele'])\n",
    "        gmshfile.write('Mesh 2;\\n'+\\\n",
    "                       'Print.Background = 1;\\n'+\\\n",
    "                       'BoundingBox;\\n'+\\\n",
    "                       'Print \"ScreenMesh.png\";\\n')\n",
    "        gmshfile.write('Mesh.SaveAll = 1;\\n'+\\\n",
    "                       'Mesh.SaveGroupsOfNodes = 1;\\n'+\\\n",
    "                       'Save \"flare_gmsh_test.inp\";\\n'+\\\n",
    "                       'Save \"flare_gmsh_test.stl\";\\n'+\\\n",
    "                       'Exit;\\n')\n",
    "        gmshfile.close()\n",
    "        return\n",
    "        \n",
    "    \n",
    "        \n",
    "    \n",
    "        "
   ]
  },
  {
   "cell_type": "code",
   "execution_count": 4,
   "metadata": {
    "collapsed": false
   },
   "outputs": [
    {
     "data": {
      "text/plain": [
       "{1: [1, 2, 3, 4, 5, 6, 7, 8, 9, 10, 11, 12, 13, 14, 15],\n",
       " 2: [16, 17],\n",
       " 3: [18,\n",
       "  19,\n",
       "  20,\n",
       "  21,\n",
       "  22,\n",
       "  23,\n",
       "  24,\n",
       "  25,\n",
       "  26,\n",
       "  27,\n",
       "  28,\n",
       "  29,\n",
       "  30,\n",
       "  31,\n",
       "  32,\n",
       "  33,\n",
       "  34,\n",
       "  35,\n",
       "  36,\n",
       "  37,\n",
       "  38,\n",
       "  39,\n",
       "  40,\n",
       "  41,\n",
       "  42,\n",
       "  43,\n",
       "  44,\n",
       "  45],\n",
       " 4: [46,\n",
       "  47,\n",
       "  48,\n",
       "  49,\n",
       "  50,\n",
       "  51,\n",
       "  52,\n",
       "  53,\n",
       "  54,\n",
       "  55,\n",
       "  56,\n",
       "  57,\n",
       "  58,\n",
       "  59,\n",
       "  60,\n",
       "  61,\n",
       "  62,\n",
       "  63,\n",
       "  64,\n",
       "  65],\n",
       " 5: [66, 67, 68, 69, 70]}"
      ]
     },
     "execution_count": 4,
     "metadata": {},
     "output_type": "execute_result"
    }
   ],
   "source": [
    "Atest =flaregeo()\n",
    "Atest.flare_geo()\n",
    "Atest.section_num"
   ]
  },
  {
   "cell_type": "code",
   "execution_count": 75,
   "metadata": {
    "collapsed": true
   },
   "outputs": [],
   "source": [
    "test=[0,10,20,30];diameter={1:20,2:10};section_num=[1,1,2,2]"
   ]
  },
  {
   "cell_type": "code",
   "execution_count": 91,
   "metadata": {
    "collapsed": true
   },
   "outputs": [],
   "source": [
    "    def flare_geo(test,diameter,section_num):\n",
    "        gmshfile = open('test.geo','w')\n",
    "        circlenum=1\n",
    "        for i in range(1,len(test)+1):\n",
    "            gmshfile.write('Point(%d) = {0,0,%d,1};\\n'%(5*i-4,test[i-1])+\\\n",
    "                          'Point(%d) = {%d,0,%d,1};\\n'%(5*i-3,diameter[section_num[i-1]],test[i-1])+\\\n",
    "                          'Point(%d) = {0,%d,%d,1};\\n'%(5*i-2,diameter[section_num[i-1]],test[i-1])+\\\n",
    "                          'Point(%d) = {-%d,0,%d,1};\\n'%(5*i-1,diameter[section_num[i-1]],test[i-1])+\\\n",
    "                          'Point(%d) = {0,-%d,%d,1};\\n'%(5*i,diameter[section_num[i-1]],test[i-1]))\n",
    "            gmshfile.write('Circle(%d) = {%d, %d, %d};\\n'%(circlenum,5*i-3,5*i-4,5*i-2)+\\\n",
    "                          'Circle(%d) = {%d, %d, %d};\\n'%(circlenum+1,5*i-2,5*i-4,5*i-1)+\\\n",
    "                          'Circle(%d) = {%d, %d, %d};\\n'%(circlenum+2,5*i-1,5*i-4,5*i)+\\\n",
    "                          'Circle(%d) = {%d, %d, %d};\\n'%(circlenum+3,5*i,5*i-4,5*i-3))\n",
    "            circlenum +=4\n",
    "        for i in range(1,len(test)):\n",
    "            linenum = 4*len(test)\n",
    "            gmshfile.write('Line(%d) = {%d, %d};\\n'%(linenum+4*i-3,5*i-3,5*i+2)+\\\n",
    "                          'Line(%d) = {%d, %d};\\n'%(linenum+4*i-2,5*i-2,5*i+3)+\\\n",
    "                          'Line(%d) = {%d, %d};\\n'%(linenum+4*i-1,5*i-1,5*i+4)+\\\n",
    "                          'Line(%d) = {%d, %d};\\n'%(linenum+4*i,5*i,5*i+5))\n",
    "            \n",
    "        for i in range(1,len(test)):\n",
    "            linenum = 4*len(test)\n",
    "            gmshfile.write('Line Loop(%d) = {%d, %d, %d, %d};\\n'%(4*i-3,4*i-3,linenum+4*i-2,-(4*i+1),-(linenum+4*i-3))+\\\n",
    "                           'Surface(%d) = {%d};\\n'%(4*i-3,4*i-3)+\\\n",
    "                           'Line Loop(%d) = {%d, %d, %d, %d};\\n'%(4*i-2,4*i-2,linenum+4*i-1,-(4*i+2),-(linenum+4*i-2))+\\\n",
    "                           'Surface(%d) = {%d};\\n'%(4*i-2,4*i-2)+\\\n",
    "                           'Line Loop(%d) = {%d, %d, %d, %d};\\n'%(4*i-1,4*i-1,linenum+4*i,-(4*i+3),-(linenum+4*i-1))+\\\n",
    "                           'Surface(%d) = {%d};\\n'%(4*i-1,4*i-1)+\\\n",
    "                           'Line Loop(%d) = {%d, %d, %d, %d};\\n'%(4*i,4*i,linenum+4*i-3,-(4*i+4),-(linenum+4*i))+\\\n",
    "                           'Surface(%d) = {%d};\\n'%(4*i,4*i))\n",
    "\n",
    "        return 0\n",
    "    \n",
    "    "
   ]
  },
  {
   "cell_type": "code",
   "execution_count": 92,
   "metadata": {
    "collapsed": false
   },
   "outputs": [
    {
     "data": {
      "text/plain": [
       "0"
      ]
     },
     "execution_count": 92,
     "metadata": {},
     "output_type": "execute_result"
    }
   ],
   "source": [
    "flare_geo(test,diameter,section_num)"
   ]
  },
  {
   "cell_type": "code",
   "execution_count": 7,
   "metadata": {
    "collapsed": false
   },
   "outputs": [
    {
     "data": {
      "text/plain": [
       "[u'StructuralTemperatureLoad',\n",
       " u'ConstantElementLoad',\n",
       " u'BeamSections',\n",
       " u'Analysis',\n",
       " u'DisplacementBoundaryConditions',\n",
       " u'Nodes',\n",
       " u'DeadWeightLoad',\n",
       " u'BeamElements']"
      ]
     },
     "execution_count": 7,
     "metadata": {},
     "output_type": "execute_result"
    }
   ],
   "source": [
    "flare.keys()"
   ]
  },
  {
   "cell_type": "code",
   "execution_count": 85,
   "metadata": {
    "collapsed": false
   },
   "outputs": [
    {
     "data": {
      "text/plain": [
       "225.44570631876613"
      ]
     },
     "execution_count": 85,
     "metadata": {},
     "output_type": "execute_result"
    }
   ],
   "source": [
    "math.sqrt(flare['BeamSections'][1]['Area']/3.14)"
   ]
  },
  {
   "cell_type": "code",
   "execution_count": 23,
   "metadata": {
    "collapsed": false
   },
   "outputs": [
    {
     "data": {
      "text/plain": [
       "[{u'Components': [0, 0, -10, 0, 0, 0], u'Label': u'DeadWeight'}]"
      ]
     },
     "execution_count": 23,
     "metadata": {},
     "output_type": "execute_result"
    }
   ],
   "source": [
    "flare['DeadWeightLoad']"
   ]
  },
  {
   "cell_type": "code",
   "execution_count": 32,
   "metadata": {
    "collapsed": false
   },
   "outputs": [
    {
     "data": {
      "text/plain": [
       "1510377.7074285715"
      ]
     },
     "execution_count": 32,
     "metadata": {},
     "output_type": "execute_result"
    }
   ],
   "source": [
    "flare['BeamSections'][0]['MomentOfInertia_z']/flare['BeamSections'][0]['Area']"
   ]
  },
  {
   "cell_type": "code",
   "execution_count": 34,
   "metadata": {
    "collapsed": false
   },
   "outputs": [
    {
     "data": {
      "text/plain": [
       "3020755.4148458876"
      ]
     },
     "execution_count": 34,
     "metadata": {},
     "output_type": "execute_result"
    }
   ],
   "source": [
    "265719524548/175929.1886010284*2"
   ]
  },
  {
   "cell_type": "code",
   "execution_count": 35,
   "metadata": {
    "collapsed": false
   },
   "outputs": [
    {
     "data": {
      "text/plain": [
       "{u'BodyLoads': [u'DeadWeight'],\n",
       " u'BoundaryLoads': [u'Windload00flare01'],\n",
       " u'Label': 1,\n",
       " u'Nodes': [1, 2],\n",
       " u'Section': 1,\n",
       " u'Zaxis': [0, 1, 0]}"
      ]
     },
     "execution_count": 35,
     "metadata": {},
     "output_type": "execute_result"
    }
   ],
   "source": [
    "flare['BeamElements'][0]"
   ]
  },
  {
   "cell_type": "code",
   "execution_count": 37,
   "metadata": {
    "collapsed": false
   },
   "outputs": [
    {
     "data": {
      "text/plain": [
       "16.008115432304677"
      ]
     },
     "execution_count": 37,
     "metadata": {},
     "output_type": "execute_result"
    }
   ],
   "source": [
    "flare['BeamSections'][0][\"Area\"]/3.14/3500"
   ]
  },
  {
   "cell_type": "code",
   "execution_count": 25,
   "metadata": {
    "collapsed": true
   },
   "outputs": [],
   "source": [
    "a = [1,2,3,4,5,6,7]"
   ]
  },
  {
   "cell_type": "code",
   "execution_count": 28,
   "metadata": {
    "collapsed": false
   },
   "outputs": [
    {
     "name": "stdout",
     "output_type": "stream",
     "text": [
      "there\n"
     ]
    }
   ],
   "source": [
    "if('8' in [i] for i in a):\n",
    "    print \"there\""
   ]
  },
  {
   "cell_type": "code",
   "execution_count": 31,
   "metadata": {
    "collapsed": false
   },
   "outputs": [],
   "source": [
    "if('8' in [1] ):\n",
    "    print \"here\""
   ]
  },
  {
   "cell_type": "code",
   "execution_count": 39,
   "metadata": {
    "collapsed": false
   },
   "outputs": [
    {
     "data": {
      "text/plain": [
       "[u'StructuralTemperatureLoad',\n",
       " u'ConstantElementLoad',\n",
       " u'BeamSections',\n",
       " u'Analysis',\n",
       " u'DisplacementBoundaryConditions',\n",
       " u'Nodes',\n",
       " u'DeadWeightLoad',\n",
       " u'BeamElements']"
      ]
     },
     "execution_count": 39,
     "metadata": {},
     "output_type": "execute_result"
    }
   ],
   "source": [
    "flare.keys()"
   ]
  },
  {
   "cell_type": "code",
   "execution_count": 43,
   "metadata": {
    "collapsed": false
   },
   "outputs": [
    {
     "data": {
      "text/plain": [
       "[140, 0, 0]"
      ]
     },
     "execution_count": 43,
     "metadata": {},
     "output_type": "execute_result"
    }
   ],
   "source": [
    "flare['StructuralTemperatureLoad'][0]['Components']"
   ]
  },
  {
   "cell_type": "code",
   "execution_count": 17,
   "metadata": {
    "collapsed": false
   },
   "outputs": [
    {
     "data": {
      "text/plain": [
       "[{u'Af': 3500,\n",
       "  u'F': 4862.788629347254,\n",
       "  u'Kz': 0.8070126781242019,\n",
       "  u'Qz': 2335.072571115128,\n",
       "  u'Qzf': 1634.5507997805896},\n",
       " {u'Af': 3500,\n",
       "  u'F': 4862.788629347254,\n",
       "  u'Kz': 0.8070126781242019,\n",
       "  u'Qz': 2335.072571115128,\n",
       "  u'Qzf': 1634.5507997805896},\n",
       " {u'Af': 3500,\n",
       "  u'F': 4862.788629347254,\n",
       "  u'Kz': 0.8070126781242019,\n",
       "  u'Qz': 2335.072571115128,\n",
       "  u'Qzf': 1634.5507997805896},\n",
       " {u'Af': 3500,\n",
       "  u'F': 4862.788629347254,\n",
       "  u'Kz': 0.8070126781242019,\n",
       "  u'Qz': 2335.072571115128,\n",
       "  u'Qzf': 1634.5507997805896},\n",
       " {u'Af': 3500,\n",
       "  u'F': 3552.7531569035386,\n",
       "  u'Kz': 0.5896034268410714,\n",
       "  u'Qz': 1706.003916880451,\n",
       "  u'Qzf': 1194.2027418163157},\n",
       " {u'Af': 3500,\n",
       "  u'F': 3742.727835842952,\n",
       "  u'Kz': 0.6211310103147666,\n",
       "  u'Qz': 1797.2282525056194,\n",
       "  u'Qzf': 1258.0597767539334},\n",
       " {u'Af': 3500,\n",
       "  u'F': 3911.252928814199,\n",
       "  u'Kz': 0.649098889853901,\n",
       "  u'Qz': 1878.1526668975748,\n",
       "  u'Qzf': 1314.7068668283023},\n",
       " {u'Af': 3500,\n",
       "  u'F': 4063.3574552113937,\n",
       "  u'Kz': 0.674341665256847,\n",
       "  u'Qz': 1951.1920553235984,\n",
       "  u'Qzf': 1365.8344387265188},\n",
       " {u'Af': 3500,\n",
       "  u'F': 4202.425620123082,\n",
       "  u'Kz': 0.6974209682579864,\n",
       "  u'Qz': 2017.971486253581,\n",
       "  u'Qzf': 1412.5800403775065},\n",
       " {u'Af': 3500,\n",
       "  u'F': 4330.854608283469,\n",
       "  u'Kz': 0.7187346278850155,\n",
       "  u'Qz': 2079.642068803587,\n",
       "  u'Qzf': 1455.7494481625108},\n",
       " {u'Af': 3500,\n",
       "  u'F': 4450.4106445836205,\n",
       "  u'Kz': 0.73857576111014,\n",
       "  u'Qz': 2137.0519301722065,\n",
       "  u'Qzf': 1495.9363511205445},\n",
       " {u'Af': 3500,\n",
       "  u'F': 4562.436335863726,\n",
       "  u'Kz': 0.7571671826235212,\n",
       "  u'Qz': 2190.8457795263985,\n",
       "  u'Qzf': 1533.592045668479},\n",
       " {u'Af': 3500,\n",
       "  u'F': 4667.978506958778,\n",
       "  u'Kz': 0.7746826200900875,\n",
       "  u'Qz': 2241.5262938577566,\n",
       "  u'Qzf': 1569.0684057004296},\n",
       " {u'Af': 3500,\n",
       "  u'F': 4767.870725271755,\n",
       "  u'Kz': 0.7912604096608722,\n",
       "  u'Qz': 2289.493745628694,\n",
       "  u'Qzf': 1602.6456219400857},\n",
       " {u'Af': 3500,\n",
       "  u'F': 4862.788629347254,\n",
       "  u'Kz': 0.8070126781242019,\n",
       "  u'Qz': 2335.072571115128,\n",
       "  u'Qzf': 1634.5507997805896},\n",
       " {u'Af': 3175,\n",
       "  u'F': 4493.340027976158,\n",
       "  u'Kz': 0.8220316975470802,\n",
       "  u'Qz': 2378.5297574147603,\n",
       "  u'Qzf': 1664.9708301903322},\n",
       " {u'Af': 2850,\n",
       "  u'F': 4103.864083134766,\n",
       "  u'Kz': 0.8363944034739567,\n",
       "  u'Qz': 2420.0879157510044,\n",
       "  u'Qzf': 1694.061541025703},\n",
       " {u'Af': 2850,\n",
       "  u'F': 4171.434429534266,\n",
       "  u'Kz': 0.8501656830349914,\n",
       "  u'Qz': 2459.934795538414,\n",
       "  u'Qzf': 1721.9543568768897},\n",
       " {u'Af': 2850,\n",
       "  u'F': 4236.374116000256,\n",
       "  u'Kz': 0.8634008168559971,\n",
       "  u'Qz': 2498.23034999278,\n",
       "  u'Qzf': 1748.7612449949459},\n",
       " {u'Af': 2850,\n",
       "  u'F': 4298.916305809994,\n",
       "  u'Kz': 0.8761473251414066,\n",
       "  u'Qz': 2535.112077729615,\n",
       "  u'Qzf': 1774.5784544107305},\n",
       " {u'Af': 2850,\n",
       "  u'F': 4359.263041684044,\n",
       "  u'Kz': 0.8884463855221834,\n",
       "  u'Qz': 2570.6991252743883,\n",
       "  u'Qzf': 1799.4893876920717},\n",
       " {u'Af': 2850,\n",
       "  u'F': 4417.59066465956,\n",
       "  u'Kz': 0.9003339374577234,\n",
       "  u'Qz': 2605.095482623949,\n",
       "  u'Qzf': 1823.566837836764},\n",
       " {u'Af': 2850,\n",
       "  u'F': 4474.054088749188,\n",
       "  u'Kz': 0.9118415534393587,\n",
       "  u'Qz': 2638.3925040537747,\n",
       "  u'Qzf': 1846.874752837642},\n",
       " {u'Af': 2850,\n",
       "  u'F': 4528.7902117403055,\n",
       "  u'Kz': 0.922997134133606,\n",
       "  u'Qz': 2670.6709194989276,\n",
       "  u'Qzf': 1869.469643649249},\n",
       " {u'Af': 2850,\n",
       "  u'F': 4581.920665080542,\n",
       "  u'Kz': 0.93382546882686,\n",
       "  u'Qz': 2702.002456187847,\n",
       "  u'Qzf': 1891.4017193314928},\n",
       " {u'Af': 2850,\n",
       "  u'F': 4633.5540519771275,\n",
       "  u'Kz': 0.9443486915647149,\n",
       "  u'Qz': 2732.4511584709585,\n",
       "  u'Qzf': 1912.7158109296709},\n",
       " {u'Af': 2850,\n",
       "  u'F': 4683.787784796299,\n",
       "  u'Kz': 0.9545866556260072,\n",
       "  u'Qz': 2762.074471352676,\n",
       "  u'Qzf': 1933.4521299468731},\n",
       " {u'Af': 2850,\n",
       "  u'F': 4732.709605550281,\n",
       "  u'Kz': 0.96455724340803,\n",
       "  u'Qz': 2790.924137137126,\n",
       "  u'Qzf': 1953.646895995988},\n",
       " {u'Af': 2850,\n",
       "  u'F': 4780.398853397224,\n",
       "  u'Kz': 0.9742766247513317,\n",
       "  u'Qz': 2819.0469428849915,\n",
       "  u'Qzf': 1973.3328600194939},\n",
       " {u'Af': 2850,\n",
       "  u'F': 4826.927528443149,\n",
       "  u'Kz': 0.9837594737495234,\n",
       "  u'Qz': 2846.4853477476922,\n",
       "  u'Qzf': 1992.5397434233844},\n",
       " {u'Af': 2850,\n",
       "  u'F': 4872.361190222226,\n",
       "  u'Kz': 0.9930191518654519,\n",
       "  u'Qz': 2873.2780128098043,\n",
       "  u'Qzf': 2011.2946089668628},\n",
       " {u'Af': 2850,\n",
       "  u'F': 4916.759721006741,\n",
       "  u'Kz': 1.0020678634987743,\n",
       "  u'Qz': 2899.4602512202514,\n",
       "  u'Qzf': 2029.6221758541758},\n",
       " {u'Af': 2850,\n",
       "  u'F': 4960.1779778359705,\n",
       "  u'Kz': 1.010916788873716,\n",
       "  u'Qz': 2925.0644126999687,\n",
       "  u'Qzf': 2047.545088889978},\n",
       " {u'Af': 2850,\n",
       "  u'F': 5002.66635234061,\n",
       "  u'Kz': 1.0195761981349603,\n",
       "  u'Qz': 2950.1202136757242,\n",
       "  u'Qzf': 2065.084149573007},\n",
       " {u'Af': 2850,\n",
       "  u'F': 5044.271253708481,\n",
       "  u'Kz': 1.0280555497792263,\n",
       "  u'Qz': 2974.6550220896247,\n",
       "  u'Qzf': 2082.2585154627373},\n",
       " {u'Af': 2850,\n",
       "  u'F': 5085.035527220927,\n",
       "  u'Kz': 1.0363635759557288,\n",
       "  u'Qz': 2998.6941042140215,\n",
       "  u'Qzf': 2099.085872949815},\n",
       " {u'Af': 2850,\n",
       "  u'F': 5124.99881849231,\n",
       "  u'Kz': 1.0445083567005757,\n",
       "  u'Qz': 3022.260839447036,\n",
       "  u'Qzf': 2115.5825876129247},\n",
       " {u'Af': 2850,\n",
       "  u'F': 5164.197891722725,\n",
       "  u'Kz': 1.052497384798758,\n",
       "  u'Qz': 3045.376907989223,\n",
       "  u'Qzf': 2131.763835592456},\n",
       " {u'Af': 2850,\n",
       "  u'F': 5202.666908818444,\n",
       "  u'Kz': 1.0603376226707264,\n",
       "  u'Qz': 3068.0624554435767,\n",
       "  u'Qzf': 2147.6437188105037},\n",
       " {u'Af': 2850,\n",
       "  u'F': 5240.437675064646,\n",
       "  u'Kz': 1.0680355524421028,\n",
       "  u'Qz': 3090.336237691078,\n",
       "  u'Qzf': 2163.2353663837544},\n",
       " {u'Af': 2850,\n",
       "  u'F': 5277.539856088579,\n",
       "  u'Kz': 1.0755972201621973,\n",
       "  u'Qz': 3112.2157488359603,\n",
       "  u'Qzf': 2178.551024185172},\n",
       " {u'Af': 2850,\n",
       "  u'F': 5314.001170081782,\n",
       "  u'Kz': 1.083028274980155,\n",
       "  u'Qz': 3133.717334560981,\n",
       "  u'Qzf': 2193.602134192686},\n",
       " {u'Af': 2850,\n",
       "  u'F': 5349.847558620519,\n",
       "  u'Kz': 1.0903340039592808,\n",
       "  u'Qz': 3154.8562928618717,\n",
       "  u'Qzf': 2208.39940500331},\n",
       " {u'Af': 2850,\n",
       "  u'F': 5385.1033389062295,\n",
       "  u'Kz': 1.0975193631046432,\n",
       "  u'Qz': 3175.646963824992,\n",
       "  u'Qzf': 2222.952874677494},\n",
       " {u'Af': 2850,\n",
       "  u'F': 5419.791339820534,\n",
       "  u'Kz': 1.1045890050919727,\n",
       "  u'Qz': 3196.1028098602587,\n",
       "  u'Qzf': 2237.271966902181},\n",
       " {u'Af': 2850,\n",
       "  u'F': 5453.933023834622,\n",
       "  u'Kz': 1.111547304113598,\n",
       "  u'Qz': 3216.2364875922876,\n",
       "  u'Qzf': 2251.365541314601},\n",
       " {u'Af': 2850,\n",
       "  u'F': 5487.548596517365,\n",
       "  u'Kz': 1.1183983781969145,\n",
       "  u'Qz': 3236.0599124383693,\n",
       "  u'Qzf': 2265.2419387068585},\n",
       " {u'Af': 2850,\n",
       "  u'F': 5520.657105139012,\n",
       "  u'Kz': 1.1251461093004655,\n",
       "  u'Qz': 3255.5843167560147,\n",
       "  u'Qzf': 2278.90902172921},\n",
       " {u'Af': 2850,\n",
       "  u'F': 5553.276527659488,\n",
       "  u'Kz': 1.1317941614503406,\n",
       "  u'Qz': 3274.820302320206,\n",
       "  u'Qzf': 2292.3742116241438},\n",
       " {u'Af': 2850,\n",
       "  u'F': 5585.423853214832,\n",
       "  u'Kz': 1.138345997143838,\n",
       "  u'Qz': 3293.777887787016,\n",
       "  u'Qzf': 2305.644521450911},\n",
       " {u'Af': 2850,\n",
       "  u'F': 5617.115155066814,\n",
       "  u'Kz': 1.144804892217077,\n",
       "  u'Qz': 3312.4665517127014,\n",
       "  u'Qzf': 2318.726586198891},\n",
       " {u'Af': 2850,\n",
       "  u'F': 5648.365656854591,\n",
       "  u'Kz': 1.1511739493475182,\n",
       "  u'Qz': 3330.895271622935,\n",
       "  u'Qzf': 2331.6266901360545},\n",
       " {u'Af': 2850,\n",
       "  u'F': 5679.189792879592,\n",
       "  u'Kz': 1.1574561103404175,\n",
       "  u'Qz': 3349.0725595633744,\n",
       "  u'Qzf': 2344.3507916943618},\n",
       " {u'Af': 2850,\n",
       "  u'F': 5709.601263062824,\n",
       "  u'Kz': 1.1636541673294882,\n",
       "  u'Qz': 3367.0064945085205,\n",
       "  u'Qzf': 2356.904546155964},\n",
       " {u'Af': 2850,\n",
       "  u'F': 5739.6130831348255,\n",
       "  u'Kz': 1.1697707730059403,\n",
       "  u'Qz': 3384.7047519592074,\n",
       "  u'Qzf': 2369.293326371445},\n",
       " {u'Af': 2850,\n",
       "  u'F': 5769.23763055047,\n",
       "  u'Kz': 1.1758084499762183,\n",
       "  u'Qz': 3402.1746310190006,\n",
       "  u'Qzf': 2381.5222417133004},\n",
       " {u'Af': 2850,\n",
       "  u'F': 5798.486686562221,\n",
       "  u'Kz': 1.1817695993368078,\n",
       "  u'Qz': 3419.4230792052017,\n",
       "  u'Qzf': 2393.5961554436412},\n",
       " {u'Af': 2850,\n",
       "  u'F': 5827.371474834634,\n",
       "  u'Kz': 1.1876565085441233,\n",
       "  u'Qz': 3436.4567152201885,\n",
       "  u'Qzf': 2405.5197006541316},\n",
       " {u'Af': 2850,\n",
       "  u'F': 5855.902696938877,\n",
       "  u'Kz': 1.1934713586485235,\n",
       "  u'Qz': 3453.28184988287,\n",
       "  u'Qzf': 2417.297294918009},\n",
       " {u'Af': 2850,\n",
       "  u'F': 5884.090565027661,\n",
       "  u'Kz': 1.1992162309536782,\n",
       "  u'Qz': 3469.9045053974114,\n",
       "  u'Qzf': 2428.9331537781877},\n",
       " {u'Af': 2850,\n",
       "  u'F': 5911.944831957616,\n",
       "  u'Kz': 1.204893113155705,\n",
       "  u'Qz': 3486.3304331166837,\n",
       "  u'Qzf': 2440.4313031816782},\n",
       " {u'Af': 2850,\n",
       "  u'F': 5939.474819096862,\n",
       "  u'Kz': 1.2105039050105335,\n",
       "  u'Qz': 3502.5651299406527,\n",
       "  u'Qzf': 2451.7955909584566},\n",
       " {u'Af': 2850,\n",
       "  u'F': 5966.689442029943,\n",
       "  u'Kz': 1.216050423572741,\n",
       "  u'Qz': 3518.6138534748306,\n",
       "  u'Qzf': 2463.0296974323815},\n",
       " {u'Af': 2850,\n",
       "  u'F': 5993.597234349805,\n",
       "  u'Kz': 1.2215344080445123,\n",
       "  u'Qz': 3534.481636060625,\n",
       "  u'Qzf': 2474.1371452424373},\n",
       " {u'Af': 2850,\n",
       "  u'F': 6020.206369706689,\n",
       "  u'Kz': 1.2269575242693507,\n",
       "  u'Qz': 3550.173297777791,\n",
       "  u'Qzf': 2485.1213084444535},\n",
       " {u'Af': 2850,\n",
       "  u'F': 6046.524682266393,\n",
       "  u'Kz': 1.2323213689016028,\n",
       "  u'Qz': 3565.6934585088566,\n",
       "  u'Qzf': 2495.9854209561995},\n",
       " {u'Af': 2850,\n",
       "  u'F': 6072.559685714864,\n",
       "  u'Kz': 1.2376274732797217,\n",
       "  u'Qz': 3581.0465491463156,\n",
       "  u'Qzf': 2506.732584402421},\n",
       " {u'Af': 2850,\n",
       "  u'F': 6098.318590932499,\n",
       "  u'Kz': 1.2428773070284043,\n",
       "  u'Qz': 3596.236822015333,\n",
       "  u'Qzf': 2517.365775410733},\n",
       " {u'Af': 2850,\n",
       "  u'F': 6123.808322449365,\n",
       "  u'Kz': 1.2480722814122718,\n",
       "  u'Qz': 3611.2683605775414,\n",
       "  u'Qzf': 2527.887852404279},\n",
       " {u'Af': 2850,\n",
       "  u'F': 6149.035533781764,\n",
       "  u'Kz': 1.2532137524615656,\n",
       "  u'Qz': 3626.1450884751675,\n",
       "  u'Qzf': 2538.301561932617}]"
      ]
     },
     "execution_count": 17,
     "metadata": {},
     "output_type": "execute_result"
    }
   ],
   "source": [
    "wind_data['elementArray']\n"
   ]
  },
  {
   "cell_type": "code",
   "execution_count": 15,
   "metadata": {
    "collapsed": false
   },
   "outputs": [
    {
     "data": {
      "text/plain": [
       "0"
      ]
     },
     "execution_count": 15,
     "metadata": {},
     "output_type": "execute_result"
    }
   ],
   "source": [
    "wind_data['elementArray'].index(a)"
   ]
  },
  {
   "cell_type": "code",
   "execution_count": null,
   "metadata": {
    "collapsed": true
   },
   "outputs": [],
   "source": []
  }
 ],
 "metadata": {
  "kernelspec": {
   "display_name": "Python 2",
   "language": "python",
   "name": "python2"
  },
  "language_info": {
   "codemirror_mode": {
    "name": "ipython",
    "version": 2
   },
   "file_extension": ".py",
   "mimetype": "text/x-python",
   "name": "python",
   "nbconvert_exporter": "python",
   "pygments_lexer": "ipython2",
   "version": "2.7.13"
  }
 },
 "nbformat": 4,
 "nbformat_minor": 2
}
